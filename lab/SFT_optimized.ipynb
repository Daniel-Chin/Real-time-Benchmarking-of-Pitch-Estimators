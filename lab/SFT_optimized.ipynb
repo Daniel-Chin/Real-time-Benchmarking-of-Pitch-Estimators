{
 "cells": [
  {
   "cell_type": "code",
   "execution_count": null,
   "metadata": {},
   "outputs": [],
   "source": [
    "import numpy as np\n",
    "from numpy import pi\n",
    "from numpy.fft import rfft\n",
    "import scipy.signal\n",
    "from blindDescend import blindDescend\n",
    "from matplotlib import pyplot as plt\n",
    "\n",
    "import librosa\n",
    "from IPython.display import Audio"
   ]
  },
  {
   "cell_type": "code",
   "execution_count": null,
   "metadata": {},
   "outputs": [],
   "source": [
    "def init(frame_len, sr, upper_limit = 1600):\n",
    "    global arange_size, hann, hann_half, \\\n",
    "    COEF_freq2Bin, PROD_freqWithCpesBin, \\\n",
    "    LEFT_TRIM, half_frame_len\n",
    "    \n",
    "    half_frame_len = frame_len // 2\n",
    "    arange_size = np.arange(half_frame_len)\n",
    "    hann = scipy.signal.get_window('hann', frame_len, True)\n",
    "    hann_half = scipy.signal.get_window('hann', half_frame_len, True)\n",
    "    COEF_freq2Bin = frame_len / sr\n",
    "    PROD_freqWithCpesBin = sr / 2\n",
    "    LEFT_TRIM = int(PROD_freqWithCpesBin / upper_limit) + 1\n",
    "\n",
    "def getRotator(bin_period, size):\n",
    "    coef = pi * 2j * bin_period / size\n",
    "    return np.exp(arange_size * coef)\n",
    "\n",
    "def sft(signal, size, bin):\n",
    "    # Slow Fourier Transform\n",
    "    return np.abs(np.sum(signal * getRotator(bin, size))) / size\n",
    "\n",
    "def refineGuess(guess, guess_score, hanned_spectrum):\n",
    "    def loss(x):\n",
    "        return - sft(\n",
    "            hanned_spectrum, half_frame_len, \n",
    "            x,\n",
    "        )\n",
    "    return blindDescend(loss, .1, .4, guess)[0]\n",
    "\n",
    "def estimateF0(frame, frame_len, sr):\n",
    "    hanned_spectrum = np.abs(rfft(frame * hann))[:-1] * hann_half\n",
    "    cepstrum = np.abs(rfft(hanned_spectrum))\n",
    "    guess = np.argmax(cepstrum[LEFT_TRIM:]) + LEFT_TRIM\n",
    "    return PROD_freqWithCpesBin / refineGuess(\n",
    "    guess, cepstrum[guess], hanned_spectrum\n",
    "    )\n"
   ]
  },
  {
   "cell_type": "code",
   "execution_count": null,
   "metadata": {},
   "outputs": [],
   "source": [
    "raw_i, sr = librosa.load('i.wav')\n",
    "raw_a, sr = librosa.load('a.wav')"
   ]
  },
  {
   "cell_type": "code",
   "execution_count": null,
   "metadata": {},
   "outputs": [],
   "source": [
    "sr"
   ]
  },
  {
   "cell_type": "code",
   "execution_count": null,
   "metadata": {
    "scrolled": true
   },
   "outputs": [],
   "source": [
    "def play(data):\n",
    "    return Audio(data, rate = sr)\n",
    "play(raw_a)"
   ]
  },
  {
   "cell_type": "code",
   "execution_count": null,
   "metadata": {},
   "outputs": [],
   "source": [
    "FRAME_LEN = 2048\n",
    "SR = sr\n",
    "init(FRAME_LEN, SR)"
   ]
  },
  {
   "cell_type": "code",
   "execution_count": null,
   "metadata": {},
   "outputs": [],
   "source": [
    "frame = raw_i[:FRAME_LEN]\n",
    "frame_len = FRAME_LEN\n",
    "sr = SR\n",
    "estimateF0(frame, FRAME_LEN, SR)"
   ]
  },
  {
   "cell_type": "code",
   "execution_count": null,
   "metadata": {},
   "outputs": [],
   "source": [
    "spectrum = np.abs(rfft(frame * hann))[:-1]\n",
    "hanned_spectrum = spectrum * hann_half\n",
    "cepstrum = np.abs(rfft(hanned_spectrum))"
   ]
  },
  {
   "cell_type": "code",
   "execution_count": null,
   "metadata": {},
   "outputs": [],
   "source": [
    "plt.plot(spectrum[:180])"
   ]
  },
  {
   "cell_type": "code",
   "execution_count": null,
   "metadata": {},
   "outputs": [],
   "source": [
    "220*COEF_freq2Bin"
   ]
  },
  {
   "cell_type": "code",
   "execution_count": null,
   "metadata": {},
   "outputs": [],
   "source": [
    "LEFT = 3; RIGHT = 500\n",
    "\n",
    "plt.plot(range(LEFT, RIGHT), cepstrum[LEFT:RIGHT] / half_frame_len)\n",
    "\n",
    "x = np.linspace(LEFT, RIGHT, 1000)\n",
    "y = [sft(hanned_spectrum, half_frame_len, b) for b in x]\n",
    "plt.plot(x, y)\n",
    "\n",
    "plt.gcf().set_size_inches(12,3)\n",
    "plt.show()"
   ]
  },
  {
   "cell_type": "code",
   "execution_count": null,
   "metadata": {
    "scrolled": true
   },
   "outputs": [],
   "source": [
    "LEFT = 35; RIGHT = 65\n",
    "plt.plot([PROD_freqWithCpesBin / x for x in range(LEFT, RIGHT)], cepstrum[LEFT:RIGHT] / half_frame_len)\n",
    "\n",
    "x = np.linspace(PROD_freqWithCpesBin / LEFT, PROD_freqWithCpesBin / RIGHT, 1000)\n",
    "y = [sft(hanned_spectrum, half_frame_len, PROD_freqWithCpesBin / f) for f in x]\n",
    "plt.plot(x, y)\n",
    "\n",
    "plt.gcf().set_size_inches(12,3)\n",
    "# plt.xscale('log')\n",
    "plt.show()"
   ]
  },
  {
   "cell_type": "code",
   "execution_count": null,
   "metadata": {},
   "outputs": [],
   "source": [
    "play(raw_a)"
   ]
  },
  {
   "cell_type": "code",
   "execution_count": null,
   "metadata": {},
   "outputs": [],
   "source": [
    "play([np.sin(2 * pi * 226 / sr * i) for i in range(sr)])"
   ]
  },
  {
   "cell_type": "code",
   "execution_count": null,
   "metadata": {},
   "outputs": [],
   "source": [
    "play(raw_i)"
   ]
  },
  {
   "cell_type": "code",
   "execution_count": null,
   "metadata": {},
   "outputs": [],
   "source": [
    "play([np.sin(2 * pi * 231 / sr * i) for i in range(sr)])"
   ]
  }
 ],
 "metadata": {
  "kernelspec": {
   "display_name": "Python 3",
   "language": "python",
   "name": "python3"
  },
  "language_info": {
   "codemirror_mode": {
    "name": "ipython",
    "version": 3
   },
   "file_extension": ".py",
   "mimetype": "text/x-python",
   "name": "python",
   "nbconvert_exporter": "python",
   "pygments_lexer": "ipython3",
   "version": "3.6.10"
  }
 },
 "nbformat": 4,
 "nbformat_minor": 2
}
