{
 "cells": [
  {
   "cell_type": "code",
   "execution_count": null,
   "metadata": {},
   "outputs": [],
   "source": [
    "import librosa\n",
    "import numpy as np\n",
    "from numpy.fft import rfft\n",
    "from numpy import pi\n",
    "from matplotlib import pyplot as plt\n",
    "from IPython.display import Audio\n",
    "import cmath\n",
    "import scipy"
   ]
  },
  {
   "cell_type": "code",
   "execution_count": null,
   "metadata": {},
   "outputs": [],
   "source": [
    "WINDOW_SIZE = 2048\n",
    "HANN = scipy.signal.get_window('hann', WINDOW_SIZE, True)"
   ]
  },
  {
   "cell_type": "code",
   "execution_count": null,
   "metadata": {},
   "outputs": [],
   "source": [
    "raw_i, sr = librosa.load('i.wav')\n",
    "raw_a, sr = librosa.load('a.wav')"
   ]
  },
  {
   "cell_type": "code",
   "execution_count": null,
   "metadata": {},
   "outputs": [],
   "source": [
    "sr"
   ]
  },
  {
   "cell_type": "code",
   "execution_count": null,
   "metadata": {
    "scrolled": true
   },
   "outputs": [],
   "source": [
    "def play(data):\n",
    "    return Audio(data, rate = sr)\n",
    "play(raw_a)"
   ]
  },
  {
   "cell_type": "code",
   "execution_count": null,
   "metadata": {},
   "outputs": [],
   "source": [
    "spectrum = np.abs(rfft(raw_a[:WINDOW_SIZE] * HANN))\n",
    "np.shape(spectrum)"
   ]
  },
  {
   "cell_type": "code",
   "execution_count": null,
   "metadata": {},
   "outputs": [],
   "source": [
    "COEF_freq2Bin = WINDOW_SIZE / sr\n",
    "def freq2Bin(f):\n",
    "    return f * COEF_freq2Bin\n",
    "def bin2Freq(bin):\n",
    "    return bin / COEF_freq2Bin\n",
    "freq2Bin(220)"
   ]
  },
  {
   "cell_type": "code",
   "execution_count": null,
   "metadata": {},
   "outputs": [],
   "source": [
    "plt_i = range(150)\n",
    "plt.plot([bin2Freq(i) for i in plt_i], spectrum[plt_i])\n",
    "plt.gcf().set_size_inches(12,3)\n",
    "# plt.xscale('log')"
   ]
  },
  {
   "cell_type": "code",
   "execution_count": null,
   "metadata": {},
   "outputs": [],
   "source": [
    "def getRotator(bin, size):\n",
    "    # Potentially cacheable\n",
    "    coef = pi * 2j * bin / size\n",
    "    return np.array([cmath.exp(i * coef) for i in range(size)])\n",
    "# getRotator(freq2Bin(220), WINDOW_SIZE)[:30]"
   ]
  },
  {
   "cell_type": "code",
   "execution_count": null,
   "metadata": {},
   "outputs": [],
   "source": [
    "def sft(signal, size, bin):\n",
    "    # Slow Fourier Transform\n",
    "    return np.abs(np.sum(signal * getRotator(bin, size))) / size"
   ]
  },
  {
   "cell_type": "code",
   "execution_count": null,
   "metadata": {},
   "outputs": [],
   "source": [
    "x = range(1600)\n",
    "y = [sft(raw_a[:2048] * HANN, WINDOW_SIZE, freq2Bin(f)) for f in x]\n",
    "plt.plot(x, y)\n",
    "plt.gcf().set_size_inches(12,3)"
   ]
  },
  {
   "cell_type": "code",
   "execution_count": null,
   "metadata": {},
   "outputs": [],
   "source": [
    "# Cepstrum, but without log\n",
    "hanned_spectrum_len = WINDOW_SIZE // 2\n",
    "hanned_spectrum = spectrum[:hanned_spectrum_len] * scipy.signal.get_window('hann', hanned_spectrum_len, True)\n",
    "\n",
    "plt.plot(np.clip([sft(hanned_spectrum, hanned_spectrum_len, x) for x in range(hanned_spectrum_len // 2)], 0, 175 / hanned_spectrum_len))\n",
    "plt.gcf().set_size_inches(12,3)\n"
   ]
  },
  {
   "cell_type": "code",
   "execution_count": null,
   "metadata": {
    "scrolled": true
   },
   "outputs": [],
   "source": [
    "plt.plot(np.clip(np.abs(rfft(hanned_spectrum)), 0, 175) / hanned_spectrum_len)\n",
    "plt.gcf().set_size_inches(12,3)"
   ]
  },
  {
   "cell_type": "code",
   "execution_count": null,
   "metadata": {},
   "outputs": [],
   "source": [
    "hanned_spectrum_len / freq2Bin(220)\n",
    "# The x-location of the above peak"
   ]
  },
  {
   "cell_type": "code",
   "execution_count": null,
   "metadata": {},
   "outputs": [],
   "source": [
    "def pitch2Freq(x):\n",
    "    return np.exp(x * 0.057762265046662105 + 2.1011784386926219)\n",
    "pitch2Freq(57)"
   ]
  },
  {
   "cell_type": "code",
   "execution_count": null,
   "metadata": {},
   "outputs": [],
   "source": [
    "cepstrum = np.abs(rfft(hanned_spectrum))\n",
    "\n",
    "LEFT = 35; RIGHT = 65\n",
    "plt.plot([x / COEF_freq2Bin /2 for x in range(LEFT, RIGHT)], cepstrum[LEFT:RIGHT] / 1024)\n",
    "\n",
    "x = np.linspace(LEFT / COEF_freq2Bin /2, RIGHT / COEF_freq2Bin /2, 1000)\n",
    "y = [sft(hanned_spectrum, 1024, 1024 / f / COEF_freq2Bin) for f in x]\n",
    "plt.plot(x, y)\n",
    "\n",
    "plt.gcf().set_size_inches(12,3)\n",
    "# plt.xscale('log')\n",
    "plt.show()"
   ]
  },
  {
   "cell_type": "code",
   "execution_count": null,
   "metadata": {},
   "outputs": [],
   "source": [
    "pitch2Freq(56\n",
    "        )"
   ]
  },
  {
   "cell_type": "code",
   "execution_count": null,
   "metadata": {},
   "outputs": [],
   "source": [
    "x = np.linspace(pitch2Freq(57), pitch2Freq(63), 100)\n",
    "y = [sft(hanned_spectrum, 1024, hanned_spectrum_len / freq2Bin(f)) for f in x]\n",
    "plt.plot(x, y)\n",
    "plt.gcf().set_size_inches(12,3)"
   ]
  },
  {
   "cell_type": "code",
   "execution_count": null,
   "metadata": {},
   "outputs": [],
   "source": [
    "play(raw_a)"
   ]
  },
  {
   "cell_type": "code",
   "execution_count": null,
   "metadata": {},
   "outputs": [],
   "source": [
    "play([np.sin(2 * pi * 228 / sr * i) for i in range(sr)])"
   ]
  },
  {
   "cell_type": "code",
   "execution_count": null,
   "metadata": {},
   "outputs": [],
   "source": [
    "play(raw_i)"
   ]
  },
  {
   "cell_type": "code",
   "execution_count": null,
   "metadata": {},
   "outputs": [],
   "source": [
    "play([np.sin(2 * pi * 231 / sr * i) for i in range(sr)])"
   ]
  }
 ],
 "metadata": {
  "kernelspec": {
   "display_name": "Python 3",
   "language": "python",
   "name": "python3"
  },
  "language_info": {
   "codemirror_mode": {
    "name": "ipython",
    "version": 3
   },
   "file_extension": ".py",
   "mimetype": "text/x-python",
   "name": "python",
   "nbconvert_exporter": "python",
   "pygments_lexer": "ipython3",
   "version": "3.6.10"
  }
 },
 "nbformat": 4,
 "nbformat_minor": 2
}
