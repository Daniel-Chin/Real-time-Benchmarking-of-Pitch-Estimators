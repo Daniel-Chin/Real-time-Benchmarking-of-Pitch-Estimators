{
 "cells": [
  {
   "cell_type": "markdown",
   "metadata": {},
   "source": [
    "Modified from Librosa"
   ]
  },
  {
   "cell_type": "code",
   "execution_count": null,
   "metadata": {},
   "outputs": [],
   "source": [
    "import numpy as np\n",
    "import librosa\n",
    "from librosa import util"
   ]
  },
  {
   "cell_type": "code",
   "execution_count": null,
   "metadata": {},
   "outputs": [],
   "source": [
    "raw_a, sr = librosa.load('a.wav')\n",
    "raw_i, sr = librosa.load('i.wav')"
   ]
  },
  {
   "cell_type": "code",
   "execution_count": null,
   "metadata": {},
   "outputs": [],
   "source": [
    "def _cumulative_mean_normalized_difference(\n",
    "    y, frame_length, win_length, min_period, max_period\n",
    "):\n",
    "    # Autocorrelation.\n",
    "    a = np.fft.rfft(y, frame_length)\n",
    "    b = np.fft.rfft(y[win_length::-1], frame_length)\n",
    "    acf = np.fft.irfft(a * b, frame_length)[win_length:]\n",
    "    acf[np.abs(acf) < 1e-6] = 0\n",
    "\n",
    "    # Energy terms.\n",
    "    energy = np.cumsum(y ** 2)\n",
    "    energy = energy[win_length:] - energy[:-win_length]\n",
    "    energy[np.abs(energy) < 1e-6] = 0\n",
    "\n",
    "    # Difference function.\n",
    "    yin_frame = energy[0] + energy - 2 * acf\n",
    "\n",
    "    # Cumulative mean normalized difference function.\n",
    "    yin_numerator = yin_frame[min_period : max_period + 1]\n",
    "    tau_range = np.arange(1, max_period + 1)\n",
    "    cumulative_mean = np.cumsum(yin_frame[1 : max_period + 1]) / tau_range\n",
    "    yin_denominator = cumulative_mean[min_period - 1 : max_period]\n",
    "    yin_frame = yin_numerator / (yin_denominator + util.tiny(yin_denominator))\n",
    "    return yin_frame"
   ]
  },
  {
   "cell_type": "code",
   "execution_count": null,
   "metadata": {},
   "outputs": [],
   "source": [
    "def _parabolic_interpolation(y):\n",
    "    parabolic_shifts = np.zeros_like(y)\n",
    "    parabola_a = (y[:-2] + y[2:] - 2 * y[1:-1]) / 2\n",
    "    parabola_b = (y[2:] - y[:-2]) / 2\n",
    "    parabolic_shifts[1:-1] = -parabola_b / (2 * parabola_a + util.tiny(parabola_a))\n",
    "    parabolic_shifts[np.abs(parabolic_shifts) > 1] = 0\n",
    "    return parabolic_shifts\n"
   ]
  },
  {
   "cell_type": "code",
   "execution_count": null,
   "metadata": {},
   "outputs": [],
   "source": [
    "def yin(\n",
    "    y, fmin = 65, fmax = 2000, sr = 22050, trough_threshold = 0.1, \n",
    "    win_length = None, pad_mode = \"reflect\", \n",
    "):\n",
    "    frame_length = len(y)\n",
    "    if win_length is None:\n",
    "        win_length = frame_length // 2\n",
    "    min_period = max(int(np.floor(sr / fmax)), 1)\n",
    "    max_period = min(int(np.ceil(sr / fmin)), frame_length - win_length - 1)\n",
    "    \n",
    "    \n",
    "    yin_frame = _cumulative_mean_normalized_difference(\n",
    "        y, frame_length, win_length, min_period, max_period\n",
    "    )\n",
    "\n",
    "    # Parabolic interpolation.\n",
    "    parabolic_shifts = _parabolic_interpolation(yin_frame)\n",
    "\n",
    "    # Find local minima.\n",
    "    is_trough = util.localmin(yin_frame)\n",
    "    is_trough[0] = yin_frame[0] < yin_frame[1]\n",
    "\n",
    "    # Find minima below peak threshold.\n",
    "    is_threshold_trough = np.logical_and(is_trough, yin_frame < trough_threshold)\n",
    "\n",
    "    # Absolute threshold.\n",
    "    # \"The solution we propose is to set an absolute threshold and choose the\n",
    "    # smallest value of tau that gives a minimum of d' deeper than\n",
    "    # this threshold. If none is found, the global minimum is chosen instead.\"\n",
    "    yin_period = np.argmax(is_threshold_trough)\n",
    "    if np.all(~is_threshold_trough):\n",
    "        yin_period = np.argmin(yin_frame)  # global_min\n",
    "\n",
    "    # Refine peak by parabolic interpolation.\n",
    "    yin_period = (\n",
    "        min_period\n",
    "        + yin_period\n",
    "        + parabolic_shifts[yin_period]\n",
    "    )\n",
    "\n",
    "    # Convert period to fundamental frequency.\n",
    "    f0 = sr / yin_period\n",
    "    return f0"
   ]
  },
  {
   "cell_type": "code",
   "execution_count": null,
   "metadata": {},
   "outputs": [],
   "source": [
    "yin(raw_a[:2048])"
   ]
  },
  {
   "cell_type": "code",
   "execution_count": null,
   "metadata": {},
   "outputs": [],
   "source": [
    "yin(raw_i[:2048])"
   ]
  },
  {
   "cell_type": "markdown",
   "metadata": {},
   "source": [
    "Success!"
   ]
  }
 ],
 "metadata": {
  "kernelspec": {
   "display_name": "Python 3",
   "language": "python",
   "name": "python3"
  },
  "language_info": {
   "codemirror_mode": {
    "name": "ipython",
    "version": 3
   },
   "file_extension": ".py",
   "mimetype": "text/x-python",
   "name": "python",
   "nbconvert_exporter": "python",
   "pygments_lexer": "ipython3",
   "version": "3.6.10"
  }
 },
 "nbformat": 4,
 "nbformat_minor": 2
}
